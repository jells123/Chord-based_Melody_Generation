{
 "cells": [
  {
   "cell_type": "code",
   "execution_count": 1,
   "id": "employed-islam",
   "metadata": {},
   "outputs": [
    {
     "data": {
      "text/plain": [
       "dict_keys(['notes', 'chords', 'parse_success', 'parse_failures', 'mode', 'beats_in_measure', 'artist', 'songpart', 'info'])"
      ]
     },
     "execution_count": 1,
     "metadata": {},
     "output_type": "execute_result"
    }
   ],
   "source": [
    "import json\n",
    "import os\n",
    "import music21 as mc\n",
    "\n",
    "PATH_DATA = '../data'\n",
    "PATH_DATA_INTERIM = os.path.join(PATH_DATA, 'interim')\n",
    "FILENAME = \"parsed.json\"\n",
    "\n",
    "with open(os.path.join(PATH_DATA_INTERIM, FILENAME), \"r\") as handle:\n",
    "    parsed = json.load(handle)\n",
    "    \n",
    "parsed.keys()"
   ]
  },
  {
   "cell_type": "code",
   "execution_count": 2,
   "id": "imported-thermal",
   "metadata": {},
   "outputs": [
    {
     "data": {
      "text/plain": [
       "19866"
      ]
     },
     "execution_count": 2,
     "metadata": {},
     "output_type": "execute_result"
    }
   ],
   "source": [
    "len(parsed['parse_success'])"
   ]
  },
  {
   "cell_type": "code",
   "execution_count": 3,
   "id": "constant-broadcast",
   "metadata": {},
   "outputs": [
    {
     "data": {
      "text/plain": [
       "(367, 1683, 0, 163, 17653)"
      ]
     },
     "execution_count": 3,
     "metadata": {},
     "output_type": "execute_result"
    }
   ],
   "source": [
    "notes_only_idx = []\n",
    "chords_only_idx = []\n",
    "nothing = []\n",
    "OK_idx = []\n",
    "too_short = []\n",
    "\n",
    "durations = []\n",
    "MIN_DURATION = 16.0\n",
    "\n",
    "for idx, notes, chords in zip(\n",
    "    range(len(parsed['notes'])),\n",
    "    parsed['notes'],\n",
    "    parsed['chords'],\n",
    "):\n",
    "    if any(\"None\" in ch for ch in chords):\n",
    "        notes_only_idx.append(idx)\n",
    "    elif len(notes) == 0:\n",
    "        chords_only_idx.append(idx)\n",
    "    elif len(notes) == 0 and any(\"None\" in ch for ch in chords):\n",
    "        nothing.append(idx)\n",
    "    else:\n",
    "        song_duration = sum(float(n.split('_')[-1]) for n in parsed['notes'][idx])\n",
    "        durations.append(song_duration)\n",
    "        if song_duration < MIN_DURATION:\n",
    "            too_short.append(idx)\n",
    "        else:\n",
    "            OK_idx.append(idx)\n",
    "\n",
    "len(notes_only_idx), len(chords_only_idx), len(nothing), len(too_short), len(OK_idx)"
   ]
  },
  {
   "cell_type": "code",
   "execution_count": 4,
   "id": "instrumental-allah",
   "metadata": {},
   "outputs": [
    {
     "data": {
      "text/plain": [
       "<seaborn.axisgrid.FacetGrid at 0x10d9d6340>"
      ]
     },
     "execution_count": 4,
     "metadata": {},
     "output_type": "execute_result"
    },
    {
     "data": {
      "image/png": "[encoded data removed]",
      "text/plain": [
       "<Figure size 360x360 with 1 Axes>"
      ]
     },
     "metadata": {
      "image/png": {
       "height": 352,
       "width": 352
      },
      "needs_background": "light"
     },
     "output_type": "display_data"
    }
   ],
   "source": [
    "import seaborn as sns\n",
    "\n",
    "sns.displot(durations)"
   ]
  },
  {
   "cell_type": "code",
   "execution_count": 6,
   "id": "devoted-sperm",
   "metadata": {},
   "outputs": [
    {
     "data": {
      "text/plain": [
       "0.09533790290602163"
      ]
     },
     "execution_count": 6,
     "metadata": {},
     "output_type": "execute_result"
    }
   ],
   "source": [
    "len(chords_only_idx) / len(OK_idx)"
   ]
  },
  {
   "cell_type": "code",
   "execution_count": 7,
   "id": "referenced-wallpaper",
   "metadata": {},
   "outputs": [
    {
     "name": "stdout",
     "output_type": "stream",
     "text": [
      "SEED: 13111996\n",
      "python 3.8.7 (default, Jan 10 2021, 15:32:30) \n",
      "[Clang 12.0.0 (clang-1200.0.32.28)]\n",
      "keras version 2.4.0\n",
      "tensorflow version 2.4.1\n",
      "SEED: 14141414\n",
      "python 3.8.7 (default, Jan 10 2021, 15:32:30) \n",
      "[Clang 12.0.0 (clang-1200.0.32.28)]\n",
      "keras version 2.4.0\n",
      "tensorflow version 2.4.1\n"
     ]
    }
   ],
   "source": [
    "import os, sys, inspect\n",
    "sys.path.insert(0, \"/Users/jells_b/Dev/Chord-based_Melody_Generation/notebooks 2\") \n",
    "\n",
    "import data_utils\n",
    "import models\n",
    "import chord_utils\n",
    "\n",
    "import random\n",
    "import json\n",
    "from keras import backend as K\n",
    "\n",
    "SEED = 14141414\n",
    "models.set_seed(SEED)"
   ]
  },
  {
   "cell_type": "code",
   "execution_count": 8,
   "id": "static-limit",
   "metadata": {},
   "outputs": [
    {
     "data": {
      "text/plain": [
       "(14122, 3531, 3449)"
      ]
     },
     "execution_count": 8,
     "metadata": {},
     "output_type": "execute_result"
    }
   ],
   "source": [
    "from sklearn.model_selection import train_test_split\n",
    "\n",
    "train_idx, test_idx = train_test_split(OK_idx, test_size=0.1, random_state=SEED)\n",
    "train_idx, validation_idx = train_test_split(OK_idx, test_size=0.2, random_state=SEED)\n",
    "\n",
    "len(train_idx), len(validation_idx), len(test_idx)+len(chords_only_idx)"
   ]
  },
  {
   "cell_type": "code",
   "execution_count": 9,
   "id": "excellent-morning",
   "metadata": {},
   "outputs": [],
   "source": [
    "with open(os.path.join(PATH_DATA_INTERIM, \"train_val_test_split.json\"), \"w\") as handle:\n",
    "    json.dump({\n",
    "        \"train\": train_idx,\n",
    "        \"val\": validation_idx,\n",
    "        \"test\": test_idx\n",
    "    }, handle)"
   ]
  },
  {
   "cell_type": "code",
   "execution_count": 11,
   "id": "local-federal",
   "metadata": {},
   "outputs": [],
   "source": [
    "train_notes, train_chords, train_modes, train_bim, train_keys = (\n",
    "    [parsed[key][idx] for idx in train_idx]\n",
    "    for key in ['notes', 'chords', 'mode', 'beats_in_measure', 'parse_success']\n",
    ")\n",
    "\n",
    "chord_names_dict = {}\n",
    "train_chords_commonnames = [\n",
    "    [\n",
    "        chord_names_dict[ch] + \"_\" + ch.split('_')[-1] if ch in chord_names_dict \n",
    "        else chord_names_dict.setdefault(\n",
    "            ch, \n",
    "            (\n",
    "                mc.chord.Chord(ch.split('_')[0].split('.')).pitchedCommonName.replace('-', ' ')\n",
    "                if not any(piece in ch for piece in [\"BEGIN\", \"END\"])\n",
    "                else ch.split('_')[0]\n",
    "            )\n",
    "        ) + \"_\" + ch.split('_')[-1]\n",
    "        for ch in [\"BEGIN_0.0\", *chs, \"END_0.0\"]\n",
    "    ]\n",
    "    for chs in train_chords\n",
    "]\n",
    "\n",
    "note_names_dict = {}\n",
    "def unify_note(name_with_octave):\n",
    "    if name_with_octave in note_names_dict:\n",
    "        return note_names_dict[name_with_octave]\n",
    "    elif name_with_octave in [\"BEGIN\", \"REST\", \"END\"]:\n",
    "        return name_with_octave\n",
    "    else:\n",
    "        p = mc.note.Note(name_with_octave).pitch.ps\n",
    "        return note_names_dict.setdefault(\n",
    "            name_with_octave, \n",
    "            mc.note.Note(p).nameWithOctave\n",
    "        )\n",
    "\n",
    "train_notes_commonnames = [\n",
    "    [\n",
    "        unify_note(n.split('_')[0]) + \"_\" + n.split('_')[-1]\n",
    "        for n in [\"BEGIN_0.0\", *ns, \"END_0.0\"]\n",
    "    ]\n",
    "    for ns in train_notes\n",
    "]"
   ]
  },
  {
   "cell_type": "code",
   "execution_count": 15,
   "id": "simple-elite",
   "metadata": {},
   "outputs": [],
   "source": [
    "from functools import lru_cache\n",
    "\n",
    "@lru_cache\n",
    "def float_c(x):\n",
    "    return float(x)\n",
    "\n",
    "@lru_cache\n",
    "def notes_transform(x):\n",
    "    return notes_vectorizer.transform(x)"
   ]
  },
  {
   "cell_type": "code",
   "execution_count": 169,
   "id": "supposed-receipt",
   "metadata": {
    "scrolled": true
   },
   "outputs": [
    {
     "name": "stderr",
     "output_type": "stream",
     "text": [
      "/Users/jells_b/.virtualenvs/Chord-based_Melody_Generation/lib/python3.8/site-packages/sklearn/feature_extraction/text.py:489: UserWarning: The parameter 'token_pattern' will not be used since 'tokenizer' is not None'\n",
      "  warnings.warn(\"The parameter 'token_pattern' will not be used\"\n"
     ]
    },
    {
     "name": "stdout",
     "output_type": "stream",
     "text": [
      "Created vocabulary: \n",
      "{'START': 14, 'BEGIN': 2, 'C': 4, 'major': 24, 'triad': 35, 'D': 6, 'minor': 25, 'F': 10, 'Bb': 3, 'END': 8, 'A': 0, 'G': 12, 'E': 7, 'F#': 11, 'half': 22, 'diminished': 17, 'seventh': 31, 'chord': 16, 'G#': 13, 'quartal': 29, 'trichord': 36, 'Eb': 9, 'enharmonic': 19, 'equivalent': 20, 'to': 34, 'above': 15, 'second': 30, 'tetrachord': 32, 'pentachord': 26, 'dominant': 18, 'B': 1, 'tetramirror': 33, 'C#': 5, 'perfect': 27, 'fourth': 21, 'lydian': 23, 'tritone': 37, 'phrygian': 28}\n"
     ]
    }
   ],
   "source": [
    "chord_name_vectorizer = chord_utils.get_chords_CountVectorizer(\n",
    "    train_chords_commonnames,\n",
    "    count_vectorizer_kwargs={\n",
    "        \"lowercase\": False,\n",
    "        \"preprocessor\":lambda x : x.split('_')[0], \n",
    "        \"tokenizer\": lambda x : x.split(),\n",
    "        \"min_df\": 1e-3\n",
    "    }\n",
    ")"
   ]
  },
  {
   "cell_type": "code",
   "execution_count": 170,
   "id": "embedded-mineral",
   "metadata": {},
   "outputs": [
    {
     "data": {
      "text/plain": [
       "[('triad', 170211),\n",
       " ('major', 126386),\n",
       " ('minor', 74257),\n",
       " ('A', 44393),\n",
       " ('C', 42746),\n",
       " ('F', 38657),\n",
       " ('G', 37049),\n",
       " ('seventh', 33929),\n",
       " ('chord', 33929),\n",
       " ('D', 23288)]"
      ]
     },
     "execution_count": 170,
     "metadata": {},
     "output_type": "execute_result"
    }
   ],
   "source": [
    "chord_words = [ccc for chords in train_chords_commonnames for ch in chords for ccc in ch.split('_')[0].split(' ')]\n",
    "from collections import Counter\n",
    "Counter(chord_words).most_common(10)"
   ]
  },
  {
   "cell_type": "markdown",
   "id": "proper-murder",
   "metadata": {},
   "source": [
    "### Let's convert notes so that max duration is 4.0, but note can be \"continued\" "
   ]
  },
  {
   "cell_type": "code",
   "execution_count": 16,
   "id": "scenic-territory",
   "metadata": {
    "scrolled": true
   },
   "outputs": [],
   "source": [
    "import seaborn as sns\n",
    "import numpy as np\n",
    "\n",
    "def transform_cutduration(pieces_list, MAX_DURATION=2.0):\n",
    "    durations = []\n",
    "    result = []\n",
    "\n",
    "    for pieces in pieces_list:\n",
    "        new_pieces = []\n",
    "        for p in pieces:\n",
    "            pitch = p.split('_')[0]\n",
    "            duration = float(p.split('_')[-1])\n",
    "            durations.append(duration)\n",
    "            if duration > MAX_DURATION:\n",
    "                new_pieces.append('_'.join([pitch, str(MAX_DURATION), \"START\"]))\n",
    "                duration -= MAX_DURATION\n",
    "                while duration > MAX_DURATION:\n",
    "                    new_pieces.append('_'.join([pitch, str(MAX_DURATION), \"CONTINUE\"]))\n",
    "                    duration -= MAX_DURATION\n",
    "                if duration > 0:\n",
    "                    new_pieces.append('_'.join([pitch, str(duration), \"CONTINUE\"]))\n",
    "            else:\n",
    "                new_pieces.append(p + \"_START\")\n",
    "\n",
    "        old_total_duration = sum(float(p.split('_')[1]) for p in pieces)\n",
    "        new_total_duration = sum(float(p.split('_')[1]) for p in new_pieces)\n",
    "        assert old_total_duration == new_total_duration\n",
    "        result.append(new_pieces)\n",
    "        \n",
    "    return result\n",
    "\n",
    "train_notes_commonnames_cutduration = transform_cutduration(train_notes_commonnames, MAX_DURATION=2.0)\n",
    "train_chords_commonnames_cutduration = transform_cutduration(train_chords_commonnames, MAX_DURATION=4.0)"
   ]
  },
  {
   "cell_type": "code",
   "execution_count": 17,
   "id": "growing-asthma",
   "metadata": {},
   "outputs": [
    {
     "name": "stderr",
     "output_type": "stream",
     "text": [
      "/Users/jells_b/.virtualenvs/Chord-based_Melody_Generation/lib/python3.8/site-packages/sklearn/feature_extraction/text.py:489: UserWarning: The parameter 'token_pattern' will not be used since 'tokenizer' is not None'\n",
      "  warnings.warn(\"The parameter 'token_pattern' will not be used\"\n"
     ]
    },
    {
     "data": {
      "text/plain": [
       "CountVectorizer(min_df=1e-05, preprocessor=<function <lambda> at 0x132eefca0>,\n",
       "                tokenizer=<functools._lru_cache_wrapper object at 0x1644a7af0>)"
      ]
     },
     "execution_count": 17,
     "metadata": {},
     "output_type": "execute_result"
    }
   ],
   "source": [
    "from sklearn.feature_extraction.text import CountVectorizer\n",
    "\n",
    "mc_note_cache = {}\n",
    "\n",
    "@lru_cache(maxsize=1024)\n",
    "def pitch_octave_note_tokenizer(x):\n",
    "    result = []\n",
    "    x_sp = x.split('_')\n",
    "    if x_sp[0] in ['BEGIN', 'END', 'REST'] or x_sp[0][0].isdigit():\n",
    "        result.append(x_sp[0])\n",
    "    else:\n",
    "        global mc_note_cache\n",
    "        if x_sp[0] in mc_note_cache:\n",
    "            n = mc_note_cache[x_sp[0]]\n",
    "        else:\n",
    "            n = mc_note_cache.setdefault(x_sp[0], mc.note.Note(x_sp[0]))\n",
    "        result += [n.name, str(n.octave)]\n",
    "    result = result + x_sp[1:]\n",
    "    return result\n",
    "\n",
    "vectorizer_kwargs = {\n",
    "    \"preprocessor\": lambda x : x,\n",
    "    \"tokenizer\": pitch_octave_note_tokenizer,\n",
    "    \"min_df\": 1e-5\n",
    "}\n",
    "\n",
    "notes_vectorizer = CountVectorizer(**vectorizer_kwargs)\n",
    "notes_flat = [\n",
    "    n for notes in train_notes_commonnames_cutduration \n",
    "    for n in notes\n",
    "]\n",
    "notes_vectorizer.fit(notes_flat)"
   ]
  },
  {
   "cell_type": "code",
   "execution_count": 18,
   "id": "tutorial-thousand",
   "metadata": {},
   "outputs": [
    {
     "data": {
      "text/plain": [
       "(33, 941, 8.66037)"
      ]
     },
     "execution_count": 18,
     "metadata": {},
     "output_type": "execute_result"
    }
   ],
   "source": [
    "len(notes_vectorizer.vocabulary_), len(set(notes_flat)), 1e-5*len(notes_flat)"
   ]
  },
  {
   "cell_type": "code",
   "execution_count": 19,
   "id": "center-actress",
   "metadata": {
    "scrolled": true
   },
   "outputs": [
    {
     "data": {
      "text/plain": [
       "{'BEGIN': 19,\n",
       " '0.0': 0,\n",
       " 'START': 32,\n",
       " 'REST': 31,\n",
       " '0.5': 2,\n",
       " 'A': 16,\n",
       " '4': 12,\n",
       " 'B': 17,\n",
       " 'C': 20,\n",
       " '5': 13,\n",
       " 'D': 23,\n",
       " 'E': 24,\n",
       " 'G': 29,\n",
       " '2.0': 10,\n",
       " '1.0': 5,\n",
       " 'F': 27,\n",
       " 'END': 26,\n",
       " '1.5': 7,\n",
       " '3': 11,\n",
       " 'CONTINUE': 22,\n",
       " '0.25': 1,\n",
       " 'G#': 30,\n",
       " '1.75': 8,\n",
       " '0.75': 3,\n",
       " '1.25': 6,\n",
       " '6': 14,\n",
       " 'E-': 25,\n",
       " 'B-': 18,\n",
       " 'F#': 28,\n",
       " '2': 9,\n",
       " 'C#': 21,\n",
       " '7': 15,\n",
       " '1': 4}"
      ]
     },
     "execution_count": 19,
     "metadata": {},
     "output_type": "execute_result"
    }
   ],
   "source": [
    "notes_vectorizer.vocabulary_"
   ]
  },
  {
   "cell_type": "code",
   "execution_count": 20,
   "id": "global-nitrogen",
   "metadata": {
    "scrolled": true
   },
   "outputs": [
    {
     "data": {
      "text/plain": [
       "CountVectorizer(min_df=0.01, preprocessor=<function <lambda> at 0x1708090d0>,\n",
       "                tokenizer=<functools._lru_cache_wrapper object at 0x170809280>)"
      ]
     },
     "execution_count": 20,
     "metadata": {},
     "output_type": "execute_result"
    }
   ],
   "source": [
    "@lru_cache(maxsize=1024)\n",
    "def chord_tokenizer(x):\n",
    "    tokens = []\n",
    "    for token in x.split('_'):\n",
    "        for tt in token.split():\n",
    "            tokens.append(tt)\n",
    "    return tokens\n",
    "\n",
    "vectorizer_kwargs = {\n",
    "    \"preprocessor\": lambda x : x,\n",
    "    \"tokenizer\": chord_tokenizer,\n",
    "    \"min_df\": 1e-2\n",
    "}\n",
    "\n",
    "chords_vectorizer = CountVectorizer(**vectorizer_kwargs)\n",
    "chords_flat = [\n",
    "    ch for chords in train_chords_commonnames_cutduration \n",
    "    for ch in chords\n",
    "]\n",
    "chords_vectorizer.fit(chords_flat)"
   ]
  },
  {
   "cell_type": "code",
   "execution_count": 21,
   "id": "simple-appearance",
   "metadata": {},
   "outputs": [
    {
     "data": {
      "text/plain": [
       "39"
      ]
     },
     "execution_count": 21,
     "metadata": {},
     "output_type": "execute_result"
    }
   ],
   "source": [
    "len(chords_vectorizer.vocabulary_)"
   ]
  },
  {
   "cell_type": "code",
   "execution_count": 22,
   "id": "cultural-event",
   "metadata": {
    "scrolled": true
   },
   "outputs": [
    {
     "data": {
      "text/plain": [
       "{'BEGIN': 13,\n",
       " '0.0': 0,\n",
       " 'START': 23,\n",
       " 'A': 11,\n",
       " 'minor': 31,\n",
       " 'triad': 37,\n",
       " '1.5': 5,\n",
       " '0.5': 2,\n",
       " 'C': 15,\n",
       " 'major': 30,\n",
       " 'G': 22,\n",
       " 'D': 17,\n",
       " '1.0': 4,\n",
       " 'END': 19,\n",
       " 'seventh': 34,\n",
       " 'chord': 25,\n",
       " '4.0': 10,\n",
       " 'CONTINUE': 16,\n",
       " 'F': 21,\n",
       " 'E': 18,\n",
       " 'quartal': 32,\n",
       " 'trichord': 38,\n",
       " '2.5': 7,\n",
       " '2.0': 6,\n",
       " '3.5': 9,\n",
       " 'B': 12,\n",
       " 'diminished': 26,\n",
       " 'Bb': 14,\n",
       " '3.0': 8,\n",
       " 'Eb': 20,\n",
       " 'second': 33,\n",
       " 'tetrachord': 35,\n",
       " 'enharmonic': 28,\n",
       " 'equivalent': 29,\n",
       " 'to': 36,\n",
       " 'above': 24,\n",
       " 'dominant': 27,\n",
       " '0.25': 1,\n",
       " '0.75': 3}"
      ]
     },
     "execution_count": 22,
     "metadata": {},
     "output_type": "execute_result"
    }
   ],
   "source": [
    "chords_vectorizer.vocabulary_"
   ]
  },
  {
   "cell_type": "code",
   "execution_count": 23,
   "id": "universal-location",
   "metadata": {
    "scrolled": true
   },
   "outputs": [
    {
     "name": "stdout",
     "output_type": "stream",
     "text": [
      "0\n",
      "1000\n",
      "2000\n",
      "3000\n",
      "4000\n",
      "5000\n",
      "6000\n",
      "7000\n",
      "8000\n",
      "9000\n",
      "10000\n",
      "11000\n",
      "12000\n",
      "13000\n",
      "14000\n"
     ]
    }
   ],
   "source": [
    "sample_notes = train_notes_commonnames_cutduration[0]\n",
    "sample_chords = train_chords_commonnames_cutduration[0]\n",
    "\n",
    "PREV_NOTES_WINDOW = 4\n",
    "PREV_CHORDS_WINDOW = 2\n",
    "BATCH_SIZE = 128\n",
    "\n",
    "X_notes = []\n",
    "X_chords = []\n",
    "songparts = [] #TODO\n",
    "y = []\n",
    "\n",
    "X_sample_to_song_idx = []\n",
    "\n",
    "for idx, (sample_notes, sample_chords) in enumerate(\n",
    "    zip(\n",
    "        train_notes_commonnames_cutduration, \n",
    "        train_chords_commonnames_cutduration\n",
    "    )\n",
    "):\n",
    "    if idx % 1000 == 0:\n",
    "        print(idx)\n",
    "        \n",
    "    songname = parsed['parse_success'][train_idx[idx]]\n",
    "    songpart = songname.split('/')[-1].split('_')[0].replace('.mid', '')\n",
    "\n",
    "    note_off = 0.0\n",
    "    chord_off = 0.0\n",
    "    bim = float_c(parsed['beats_in_measure'][train_idx[idx]])\n",
    "    chidx = 0\n",
    "\n",
    "    sample_notes_pad = [\"BEGIN_0.0_START\"] * (PREV_NOTES_WINDOW-1) + sample_notes\n",
    "    duration = sum(float(x.split('_')[1]) for x in sample_notes_pad)\n",
    "    if duration % bim != 0.0:\n",
    "        print(\"Duration doesn't match beats_in_measure!\")\n",
    "#         last_note_pitch = sample_notes_pad[-2]\n",
    "#         accu = bim - duration%bim\n",
    "#         print(duration, '|', bim, '|', bim - duration%bim, last_note)\n",
    "#         sample_notes_pad.append(f\"REST_{bim-duration%bim}_START\")\n",
    "        \n",
    "    sample_notes_pad = sample_notes_pad + [\"END_0.0_CONTINUE\"]*(BATCH_SIZE-len(sample_notes_pad)%BATCH_SIZE + PREV_NOTES_WINDOW)\n",
    "    \n",
    "    for i in range(PREV_NOTES_WINDOW, len(sample_notes_pad)):\n",
    "        X_sample_to_song_idx.append(train_idx[idx])\n",
    "        \n",
    "        # ____ NOTES\n",
    "        notes_slice = sample_notes_pad[i-PREV_NOTES_WINDOW:i]\n",
    "        X_notes.append([*notes_slice, str(note_off % bim)])\n",
    "        assert len(X_notes[-1]) == PREV_NOTES_WINDOW+1\n",
    "        # ____ TARGET\n",
    "        target = sample_notes_pad[i]\n",
    "        y.append(target)\n",
    "\n",
    "    #     print(\"->\", target)\n",
    "\n",
    "        ds = [float_c(note.split('_')[1]) for note in notes_slice]\n",
    "        if note_off == 0.0:\n",
    "            note_off += sum(ds)\n",
    "\n",
    "        while chord_off <= note_off and chidx < len(sample_chords):\n",
    "            chord_off += float_c(sample_chords[chidx].split('_')[1])\n",
    "            chidx += 1\n",
    "\n",
    "        # ____ CURRENT CHORD\n",
    "        current_chord = sample_chords[chidx-1]\n",
    "        current_chord_rem = chord_off-note_off\n",
    "\n",
    "        # ____ NEXT_CHORD\n",
    "        if chidx < len(sample_chords):\n",
    "            next_chord = sample_chords[chidx]\n",
    "        else:\n",
    "            next_chord = \"END_0.0_START\"\n",
    "\n",
    "        # ____ PREVIOUS CHORD\n",
    "        prev_chords = sample_chords[:chidx]\n",
    "        prev_chords = prev_chords[::-1][1:PREV_CHORDS_WINDOW]\n",
    "        while len(prev_chords) < PREV_CHORDS_WINDOW-1:\n",
    "            prev_chords.append(\"BEGIN_0.0_START\")\n",
    "            \n",
    "        X_chords.append([*prev_chords, current_chord, next_chord, str(current_chord_rem)])\n",
    "        assert len(X_chords[-1]) == PREV_CHORDS_WINDOW+1+1\n",
    "        \n",
    "        target_d = float_c(target.split('_')[1])\n",
    "        if target_d > 4.0:\n",
    "            print(\"ERR\", target)\n",
    "            break\n",
    "        note_off += target_d\n",
    "        \n",
    "    if note_off % bim != 0.0:\n",
    "        print(\"OOPS! Dafuq?\", note_off, bim)\n",
    "        break\n",
    "    \n",
    "    assert len(X_notes) % BATCH_SIZE == 0\n",
    "    assert len(X_chords) == len(X_notes) == len(y)"
   ]
  },
  {
   "cell_type": "code",
   "execution_count": 24,
   "id": "earned-anger",
   "metadata": {
    "scrolled": true
   },
   "outputs": [],
   "source": [
    "NOTES_PER_SAMPLE = len(X_notes[0])\n",
    "X_notes_encoded = notes_vectorizer.transform([nt for notes in X_notes for nt in notes])\n",
    "X_notes_encoded = np.array(\n",
    "    [np.concatenate(X_notes_encoded[i:i+NOTES_PER_SAMPLE].toarray()) for i in range(0, X_notes_encoded.shape[0], NOTES_PER_SAMPLE)]\n",
    ")"
   ]
  },
  {
   "cell_type": "code",
   "execution_count": 28,
   "id": "necessary-richards",
   "metadata": {},
   "outputs": [],
   "source": [
    "X_chords_encoded = chords_vectorizer.transform([ch for chords in X_chords for ch in chords])\n",
    "CHORDS_PER_SAMPLE = len(X_chords[0])\n",
    "X_chords_encoded = np.array(\n",
    "    [np.concatenate(X_chords_encoded[i:i+CHORDS_PER_SAMPLE].toarray()) for i in range(0, X_chords_encoded.shape[0], CHORDS_PER_SAMPLE)]\n",
    ")"
   ]
  },
  {
   "cell_type": "code",
   "execution_count": 30,
   "id": "compliant-thought",
   "metadata": {
    "scrolled": true
   },
   "outputs": [
    {
     "data": {
      "text/plain": [
       "((1908480, 165), (1908480, 156))"
      ]
     },
     "execution_count": 30,
     "metadata": {},
     "output_type": "execute_result"
    }
   ],
   "source": [
    "X_notes_encoded.shape, X_chords_encoded.shape"
   ]
  },
  {
   "cell_type": "code",
   "execution_count": 31,
   "id": "optional-missouri",
   "metadata": {},
   "outputs": [
    {
     "data": {
      "text/plain": [
       "['BEGIN_0.0_START',\n",
       " 'BEGIN_0.0_START',\n",
       " 'BEGIN_0.0_START',\n",
       " 'BEGIN_0.0_START',\n",
       " 'F4_1.5_START',\n",
       " 'E4_1.5_START',\n",
       " 'C4_1.0_START',\n",
       " 'F4_1.5_START',\n",
       " 'E4_1.5_START',\n",
       " 'C4_1.0_START',\n",
       " 'F4_1.5_START',\n",
       " 'E4_1.5_START',\n",
       " 'C4_1.0_START',\n",
       " 'F4_1.5_START',\n",
       " 'E4_1.5_START',\n",
       " 'C4_1.0_START',\n",
       " 'F4_1.5_START',\n",
       " 'E4_1.5_START',\n",
       " 'C4_1.0_START',\n",
       " 'F4_1.5_START',\n",
       " 'E4_1.5_START',\n",
       " 'C4_1.0_START',\n",
       " 'F4_1.5_START',\n",
       " 'E4_1.5_START',\n",
       " 'C4_1.0_START',\n",
       " 'F4_1.5_START',\n",
       " 'E4_1.5_START',\n",
       " 'C4_0.5_START',\n",
       " 'E4_0.5_START',\n",
       " 'G4_1.0_START',\n",
       " 'G4_1.0_START',\n",
       " 'G4_0.5_START',\n",
       " 'G4_1.0_START',\n",
       " 'G4_1.0_START',\n",
       " 'F4_1.0_START',\n",
       " 'E4_1.0_START',\n",
       " 'F4_1.0_START',\n",
       " 'E4_0.5_START',\n",
       " 'G4_1.0_START',\n",
       " 'G4_1.0_START',\n",
       " 'G4_0.5_START',\n",
       " 'G4_1.0_START',\n",
       " 'G4_1.0_START',\n",
       " 'F4_1.0_START',\n",
       " 'E4_1.0_START',\n",
       " 'F4_1.0_START',\n",
       " 'REST_0.5_START',\n",
       " 'E4_1.5_START',\n",
       " 'C4_1.5_START',\n",
       " 'REST_1.0_START',\n",
       " 'F4_1.0_START',\n",
       " 'E4_0.5_START',\n",
       " 'C4_1.5_START',\n",
       " 'D4_0.5_START',\n",
       " 'C4_2.0_START',\n",
       " 'REST_2.0_START',\n",
       " 'REST_2.0_CONTINUE',\n",
       " 'REST_2.0_CONTINUE',\n",
       " 'E4_0.5_START',\n",
       " 'G4_1.0_START',\n",
       " 'G4_1.0_START',\n",
       " 'G4_0.5_START',\n",
       " 'G4_1.0_START',\n",
       " 'G4_1.0_START',\n",
       " 'F4_1.0_START',\n",
       " 'E4_1.0_START',\n",
       " 'F4_1.0_START',\n",
       " 'E4_0.5_START',\n",
       " 'G4_1.0_START',\n",
       " 'G4_1.0_START',\n",
       " 'G4_0.5_START',\n",
       " 'G4_1.0_START',\n",
       " 'G4_1.0_START',\n",
       " 'F4_1.0_START',\n",
       " 'E4_1.0_START',\n",
       " 'F4_1.0_START',\n",
       " 'REST_0.5_START',\n",
       " 'E4_1.5_START',\n",
       " 'C4_1.5_START',\n",
       " 'REST_1.0_START',\n",
       " 'F4_1.0_START',\n",
       " 'E4_0.5_START',\n",
       " 'C4_1.5_START',\n",
       " 'D4_0.5_START',\n",
       " 'C4_2.0_START',\n",
       " 'REST_2.0_START',\n",
       " 'REST_0.5_CONTINUE',\n",
       " 'F4_1.0_START',\n",
       " 'E4_0.5_START',\n",
       " 'C4_1.5_START',\n",
       " 'D4_0.5_START',\n",
       " 'C4_0.5_START',\n",
       " 'F4_1.5_START',\n",
       " 'E4_1.5_START',\n",
       " 'C4_1.0_START',\n",
       " 'F4_1.5_START',\n",
       " 'E4_1.5_START',\n",
       " 'C4_1.0_START',\n",
       " 'F4_1.5_START',\n",
       " 'E4_1.5_START',\n",
       " 'C4_1.0_START',\n",
       " 'F4_1.5_START',\n",
       " 'E4_1.5_START',\n",
       " 'C4_1.0_START',\n",
       " 'F4_1.5_START',\n",
       " 'E4_1.5_START',\n",
       " 'C4_1.0_START',\n",
       " 'F4_1.5_START',\n",
       " 'E4_1.5_START',\n",
       " 'C4_1.0_START',\n",
       " 'F4_1.5_START',\n",
       " 'E4_1.5_START',\n",
       " 'C4_1.0_START',\n",
       " 'F4_1.5_START',\n",
       " 'E4_1.5_START',\n",
       " 'C4_1.0_START',\n",
       " 'END_0.0_START',\n",
       " 'END_0.0_CONTINUE',\n",
       " 'END_0.0_CONTINUE',\n",
       " 'END_0.0_CONTINUE',\n",
       " 'END_0.0_CONTINUE',\n",
       " 'END_0.0_CONTINUE',\n",
       " 'END_0.0_CONTINUE',\n",
       " 'END_0.0_CONTINUE',\n",
       " 'END_0.0_CONTINUE',\n",
       " 'END_0.0_CONTINUE',\n",
       " 'END_0.0_CONTINUE',\n",
       " 'END_0.0_CONTINUE',\n",
       " 'END_0.0_CONTINUE',\n",
       " 'END_0.0_CONTINUE',\n",
       " 'END_0.0_CONTINUE',\n",
       " 'END_0.0_CONTINUE']"
      ]
     },
     "execution_count": 31,
     "metadata": {},
     "output_type": "execute_result"
    }
   ],
   "source": [
    "sample_notes_pad"
   ]
  },
  {
   "cell_type": "code",
   "execution_count": 32,
   "id": "positive-oracle",
   "metadata": {
    "scrolled": true
   },
   "outputs": [
    {
     "data": {
      "text/plain": [
       "{'REST': 31,\n",
       " '0.5': 2,\n",
       " 'START': 32,\n",
       " 'A': 17,\n",
       " '4': 12,\n",
       " 'B': 18,\n",
       " 'C': 20,\n",
       " '5': 13,\n",
       " 'D': 23,\n",
       " 'E': 24,\n",
       " 'G': 29,\n",
       " '2.0': 10,\n",
       " '1.0': 5,\n",
       " 'F': 27,\n",
       " 'END': 26,\n",
       " '0.0': 0,\n",
       " 'CONTINUE': 22,\n",
       " '1.5': 7,\n",
       " '3': 11,\n",
       " '0.25': 1,\n",
       " 'G#': 30,\n",
       " '1.75': 8,\n",
       " '0.75': 3,\n",
       " '1.25': 6,\n",
       " '6': 14,\n",
       " 'E-': 25,\n",
       " 'B-': 19,\n",
       " 'F#': 28,\n",
       " '2': 9,\n",
       " 'C#': 21,\n",
       " '7': 15,\n",
       " '1': 4,\n",
       " '8': 16}"
      ]
     },
     "execution_count": 32,
     "metadata": {},
     "output_type": "execute_result"
    }
   ],
   "source": [
    "vectorizer_kwargs = {\n",
    "    \"preprocessor\": lambda x : x,\n",
    "    \"tokenizer\": pitch_octave_note_tokenizer,\n",
    "    \"min_df\": 0.0\n",
    "}\n",
    "\n",
    "targets_vectorizer = CountVectorizer(**vectorizer_kwargs)\n",
    "targets_vectorizer.fit(y)\n",
    "targets_encoded = targets_vectorizer.transform(y)\n",
    "\n",
    "import scipy\n",
    "targets_encoded = scipy.sparse.csr_matrix.todense(targets_encoded)\n",
    "\n",
    "targets_vectorizer.vocabulary_"
   ]
  },
  {
   "cell_type": "code",
   "execution_count": 61,
   "id": "precious-skating",
   "metadata": {
    "scrolled": false
   },
   "outputs": [
    {
     "data": {
      "image/png": "[encoded data removed]",
      "text/plain": [
       "<Figure size 1440x360 with 1 Axes>"
      ]
     },
     "metadata": {
      "image/png": {
       "height": 316,
       "width": 1155
      }
     },
     "output_type": "display_data"
    }
   ],
   "source": [
    "import matplotlib.pyplot as plt\n",
    "\n",
    "plt.figure(figsize=(20, 5))\n",
    "ax = sns.barplot(x=targets_vectorizer.get_feature_names(), y=np.array(np.sum(targets_encoded, axis=0))[0])"
   ]
  },
  {
   "cell_type": "code",
   "execution_count": 64,
   "id": "first-bracket",
   "metadata": {},
   "outputs": [
    {
     "data": {
      "text/plain": [
       "<seaborn.axisgrid.FacetGrid at 0x1978f81f0>"
      ]
     },
     "execution_count": 64,
     "metadata": {},
     "output_type": "execute_result"
    },
    {
     "data": {
      "image/png": "[encoded data removed]",
      "text/plain": [
       "<Figure size 360x360 with 1 Axes>"
      ]
     },
     "metadata": {
      "image/png": {
       "height": 348,
       "width": 349
      }
     },
     "output_type": "display_data"
    }
   ],
   "source": [
    "sample_per_song_counts = list(map(\n",
    "    lambda x : x[-1],\n",
    "    Counter(\n",
    "        list(\n",
    "            map(\n",
    "                lambda x : x[-1], \n",
    "                filter(\n",
    "                    lambda x : set(x[0]) != {\"END_0.0_CONTINUE\", '0.0'}, \n",
    "                    zip(X_notes, X_sample_to_song_idx)\n",
    "                )\n",
    "            )\n",
    "        )\n",
    "    ).most_common()\n",
    "))\n",
    "sns.displot(sample_per_song_counts)"
   ]
  },
  {
   "cell_type": "code",
   "execution_count": 65,
   "id": "monetary-royal",
   "metadata": {},
   "outputs": [
    {
     "data": {
      "text/plain": [
       "<seaborn.axisgrid.FacetGrid at 0x197b66490>"
      ]
     },
     "execution_count": 65,
     "metadata": {},
     "output_type": "execute_result"
    },
    {
     "data": {
      "image/png": "[encoded data removed]",
      "text/plain": [
       "<Figure size 360x360 with 1 Axes>"
      ]
     },
     "metadata": {
      "image/png": {
       "height": 348,
       "width": 349
      }
     },
     "output_type": "display_data"
    }
   ],
   "source": [
    "sample_per_song_pad_counts = list(map(lambda x : x[-1], Counter(X_sample_to_song_idx).most_common()))\n",
    "sns.displot(sample_per_song_pad_counts)"
   ]
  },
  {
   "cell_type": "code",
   "execution_count": 66,
   "id": "linear-melbourne",
   "metadata": {},
   "outputs": [
    {
     "data": {
      "text/plain": [
       "(64.32537884152386, 35.73724696022651, 13, 638)"
      ]
     },
     "execution_count": 66,
     "metadata": {},
     "output_type": "execute_result"
    }
   ],
   "source": [
    "np.mean(sample_per_song_counts), np.std(sample_per_song_counts), np.min(sample_per_song_counts), np.max(sample_per_song_counts)"
   ]
  },
  {
   "cell_type": "code",
   "execution_count": 67,
   "id": "advised-fountain",
   "metadata": {},
   "outputs": [
    {
     "data": {
      "text/plain": [
       "14910.0"
      ]
     },
     "execution_count": 67,
     "metadata": {},
     "output_type": "execute_result"
    }
   ],
   "source": [
    "X_notes_encoded.shape[0] / BATCH_SIZE"
   ]
  },
  {
   "cell_type": "code",
   "execution_count": 68,
   "id": "incoming-flour",
   "metadata": {},
   "outputs": [
    {
     "data": {
      "text/plain": [
       "((1908480, 1, 165), (1908480, 1, 156))"
      ]
     },
     "execution_count": 68,
     "metadata": {},
     "output_type": "execute_result"
    }
   ],
   "source": [
    "TIMESTEPS = 1\n",
    "X_notes_input = np.reshape(X_notes_encoded, (X_notes_encoded.shape[0], 1, X_notes_encoded.shape[-1]))\n",
    "X_chords_input = np.reshape(X_chords_encoded, (X_chords_encoded.shape[0], 1, X_chords_encoded.shape[-1]))\n",
    "X_notes_input.shape, X_chords_input.shape"
   ]
  },
  {
   "cell_type": "code",
   "execution_count": 459,
   "id": "occupational-worker",
   "metadata": {},
   "outputs": [
    {
     "data": {
      "text/plain": [
       "(InputConfig(batch=16, timesteps=128, feature=165),\n",
       " InputConfig(batch=16, timesteps=128, feature=156))"
      ]
     },
     "execution_count": 459,
     "metadata": {},
     "output_type": "execute_result"
    }
   ],
   "source": [
    "from keras.layers import LSTM\n",
    "from collections import namedtuple \n",
    "\n",
    "InputConfig = namedtuple('InputConfig', ['batch', 'timesteps', 'feature'])\n",
    "NotesCfg = InputConfig(BATCH_SIZE, TIMESTEPS, X_notes_encoded.shape[-1])\n",
    "ChordsCfg = InputConfig(BATCH_SIZE, TIMESTEPS, X_chords_encoded.shape[-1])\n",
    "\n",
    "NotesCfg, ChordsCfg"
   ]
  },
  {
   "cell_type": "code",
   "execution_count": 489,
   "id": "alpine-sister",
   "metadata": {
    "scrolled": true
   },
   "outputs": [
    {
     "name": "stdout",
     "output_type": "stream",
     "text": [
      "945\n",
      "(1874304, 945)\n"
     ]
    }
   ],
   "source": [
    "# from sklearn import preprocessing\n",
    "# import tensorflow as tf\n",
    "\n",
    "# le = preprocessing.LabelEncoder()\n",
    "# le.fit(y)\n",
    "# print(len(list(le.classes_)))\n",
    "\n",
    "# y_encoded = tf.keras.utils.to_categorical(le.transform(y))\n",
    "# print(y_encoded.shape)\n"
   ]
  },
  {
   "cell_type": "code",
   "execution_count": 69,
   "id": "unavailable-purse",
   "metadata": {},
   "outputs": [
    {
     "data": {
      "text/plain": [
       "[('END_0.0_CONTINUE', 1056565),\n",
       " ('C4_0.5_START', 31395),\n",
       " ('E4_0.5_START', 30240),\n",
       " ('C5_0.5_START', 28376),\n",
       " ('A4_0.5_START', 25787),\n",
       " ('G4_0.5_START', 24892),\n",
       " ('D4_0.5_START', 24300),\n",
       " ('REST_0.5_START', 22686),\n",
       " ('E5_0.5_START', 19899),\n",
       " ('D5_0.5_START', 18358)]"
      ]
     },
     "execution_count": 69,
     "metadata": {},
     "output_type": "execute_result"
    }
   ],
   "source": [
    "Counter(y).most_common()[:10]"
   ]
  },
  {
   "cell_type": "code",
   "execution_count": 103,
   "id": "spare-payment",
   "metadata": {},
   "outputs": [
    {
     "name": "stdout",
     "output_type": "stream",
     "text": [
      "14910/14910 [==============================] - 41s 3ms/step - loss: 0.1509\n"
     ]
    },
    {
     "data": {
      "text/plain": [
       "<tensorflow.python.keras.callbacks.History at 0x1998ab5b0>"
      ]
     },
     "execution_count": 103,
     "metadata": {},
     "output_type": "execute_result"
    }
   ],
   "source": [
    "from keras.models import Sequential\n",
    "from keras.layers import Dense\n",
    "from keras.layers import LSTM\n",
    "from keras.layers import Dropout\n",
    "\n",
    "model = Sequential()\n",
    "\n",
    "model.add(LSTM(units=128, return_sequences=False, batch_input_shape=(BATCH_SIZE, TIMESTEPS, X_chords_encoded.shape[-1])))\n",
    "model.add(Dropout(0.2))\n",
    "\n",
    "model.add(Dense(units=targets_encoded.shape[-1]))\n",
    "\n",
    "model.compile(optimizer='adam', loss='binary_crossentropy')\n",
    "model.fit(x=X_chords_input, y=targets_encoded, batch_size=BATCH_SIZE)#, epochs=5)"
   ]
  },
  {
   "cell_type": "code",
   "execution_count": 105,
   "id": "concerned-ordinance",
   "metadata": {},
   "outputs": [],
   "source": [
    "model.predict??"
   ]
  },
  {
   "cell_type": "code",
   "execution_count": 107,
   "id": "african-forth",
   "metadata": {},
   "outputs": [],
   "source": [
    "predictions = model.predict(X_chords_input[:128], batch_size=BATCH_SIZE)"
   ]
  },
  {
   "cell_type": "code",
   "execution_count": 109,
   "id": "ordered-sitting",
   "metadata": {
    "scrolled": true
   },
   "outputs": [
    {
     "data": {
      "text/plain": [
       "['0.0',\n",
       " '0.25',\n",
       " '0.5',\n",
       " '0.75',\n",
       " '1',\n",
       " '1.0',\n",
       " '1.25',\n",
       " '1.5',\n",
       " '1.75',\n",
       " '2',\n",
       " '2.0',\n",
       " '3',\n",
       " '4',\n",
       " '5',\n",
       " '6',\n",
       " '7',\n",
       " '8',\n",
       " 'A',\n",
       " 'B',\n",
       " 'B-',\n",
       " 'C',\n",
       " 'C#',\n",
       " 'CONTINUE',\n",
       " 'D',\n",
       " 'E',\n",
       " 'E-',\n",
       " 'END',\n",
       " 'F',\n",
       " 'F#',\n",
       " 'G',\n",
       " 'G#',\n",
       " 'REST',\n",
       " 'START']"
      ]
     },
     "execution_count": 109,
     "metadata": {},
     "output_type": "execute_result"
    }
   ],
   "source": [
    "targets_vectorizer.get_feature_names()"
   ]
  },
  {
   "cell_type": "code",
   "execution_count": 114,
   "id": "respected-operations",
   "metadata": {},
   "outputs": [
    {
     "data": {
      "text/plain": [
       "<AxesSubplot:>"
      ]
     },
     "execution_count": 114,
     "metadata": {},
     "output_type": "execute_result"
    },
    {
     "data": {
      "image/png": "[encoded data removed]",
      "text/plain": [
       "<Figure size 720x720 with 2 Axes>"
      ]
     },
     "metadata": {
      "image/png": {
       "height": 626,
       "width": 574
      }
     },
     "output_type": "display_data"
    }
   ],
   "source": [
    "plt.figure(figsize=(10, 10))\n",
    "sns.heatmap(predictions, xticklabels=targets_vectorizer.get_feature_names())"
   ]
  },
  {
   "cell_type": "code",
   "execution_count": 108,
   "id": "surgical-scroll",
   "metadata": {},
   "outputs": [
    {
     "data": {
      "text/plain": [
       "array([[-0.08374591,  0.15158473,  0.46945179, ..., -0.2677645 ,\n",
       "         0.13849139,  0.9797471 ],\n",
       "       [-0.12963006,  0.19889818,  0.42798626, ..., -0.22922294,\n",
       "         0.15488884,  0.9491625 ],\n",
       "       [-0.14751676,  0.18011004,  0.5616545 , ..., -0.27274138,\n",
       "         0.12218828,  0.9559241 ],\n",
       "       ...,\n",
       "       [ 2.0286117 , -0.4640079 , -0.5580368 , ..., -0.59845406,\n",
       "        -0.2966448 , -0.9068467 ],\n",
       "       [ 2.0286121 , -0.46400774, -0.55803686, ..., -0.5984541 ,\n",
       "        -0.29664487, -0.9068467 ],\n",
       "       [ 2.0286121 , -0.46400774, -0.55803686, ..., -0.5984541 ,\n",
       "        -0.29664487, -0.9068467 ]], dtype=float32)"
      ]
     },
     "execution_count": 108,
     "metadata": {},
     "output_type": "execute_result"
    }
   ],
   "source": [
    "predictions"
   ]
  },
  {
   "cell_type": "code",
   "execution_count": null,
   "id": "wooden-colleague",
   "metadata": {},
   "outputs": [],
   "source": []
  }
 ],
 "metadata": {
  "kernelspec": {
   "display_name": "Python 3",
   "language": "python",
   "name": "python3"
  },
  "language_info": {
   "codemirror_mode": {
    "name": "ipython",
    "version": 3
   },
   "file_extension": ".py",
   "mimetype": "text/x-python",
   "name": "python",
   "nbconvert_exporter": "python",
   "pygments_lexer": "ipython3",
   "version": "3.8.7"
  }
 },
 "nbformat": 4,
 "nbformat_minor": 5
}
